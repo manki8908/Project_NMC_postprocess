{
  "nbformat": 4,
  "nbformat_minor": 0,
  "metadata": {
    "colab": {
      "name": "VAR_SEL.ipynb",
      "provenance": [],
      "collapsed_sections": [],
      "authorship_tag": "ABX9TyNiDEe87NDRIz+pQ0Vhq1Ub",
      "include_colab_link": true
    },
    "kernelspec": {
      "name": "python3",
      "display_name": "Python 3"
    },
    "language_info": {
      "name": "python"
    }
  },
  "cells": [
    {
      "cell_type": "markdown",
      "metadata": {
        "id": "view-in-github",
        "colab_type": "text"
      },
      "source": [
        "<a href=\"https://colab.research.google.com/github/mankicom/DEV_GDPS_TEMP_LSTM/blob/master/VAR_SEL.ipynb\" target=\"_parent\"><img src=\"https://colab.research.google.com/assets/colab-badge.svg\" alt=\"Open In Colab\"/></a>"
      ]
    },
    {
      "cell_type": "markdown",
      "source": [
        "# **RandomForest 및 상관관계 분석을 통한 변수선택**\n",
        "단기 풍속 편차보정모델 개발 예제\n",
        "\n",
        "\n",
        "### **모듈로드**\n",
        "\n",
        "\n",
        "*   기본모듈: numpy, matplotlib, os, sys, time, joblib\n",
        "*   변수선택 관련 모듈: RandomForestRegressor, SelectFromModel\n",
        "*   사용자정의 함수: 중요도 산출 결과 bar&hline plot 함수, 상관관계 분석, 변수중요도 산출\n",
        "\n",
        "\n"
      ],
      "metadata": {
        "id": "6m8nfNYPRonf"
      }
    },
    {
      "cell_type": "code",
      "execution_count": null,
      "metadata": {
        "id": "7rgs279aIndM"
      },
      "outputs": [],
      "source": [
        "#----------------------------------------------------------------------------\n",
        "# .. module load\n",
        "import numpy as np\n",
        "import matplotlib.pyplot as plt\n",
        "import os\n",
        "import sys\n",
        "import time\n",
        "import joblib\n",
        "#from BorutaShap import BorutaShap\n",
        "#from xgboost import XGBRegressor\n",
        "from sklearn.ensemble import RandomForestRegressor\n",
        "from sklearn.feature_selection import SelectFromModel\n",
        "\n",
        "#.. local\n",
        "sys.path.insert(0, '../inc')\n",
        "from plot_importance import plot_importance_barh, plot_importance_hline\n",
        "from cr_matrix import plot_correlation_matrix\n",
        "from get_importance import get_feature_importances\n"
      ]
    },
    {
      "cell_type": "markdown",
      "source": [
        "### **랜덤포레스트 회귀 입력 및 정답자료 로드**\n",
        "\n",
        "\n",
        "*   input=65종 변수 예측자료[예측시각*표본개수,변수], target=관측기온[예측시각*표본개수,변수]\n",
        "*   65종 변수에 대한 변수이름=header\n",
        "*   결측제거\n",
        "\n",
        "\n",
        "\n"
      ],
      "metadata": {
        "id": "fe9v_kuRSPlV"
      }
    },
    {
      "cell_type": "code",
      "source": [
        "#----------------------------------------------------------------------------\n",
        "# .. Load data\n",
        "input_dir = \"../dat/\"\n",
        "print_dir = \"../out/\"\n",
        "data_per = \"2016050100-2021043000-24-1605-2104\"\n",
        "#data_per = \"sample\"\n",
        "#data_per = \"test1stn\"\n",
        "input_x = \"test_nwp_\" + data_per\n",
        "input_y = \"test_obs_\" + data_per\n",
        "\n",
        "nwp = np.load(input_dir + input_x + \".npz\")['value']\n",
        "obs = np.load(input_dir + input_y + \".npz\")['value']\n",
        "header = np.load(input_dir + input_x + \".npz\")['value_name']\n",
        "header = header.tolist()\n",
        "\n",
        "print (np.shape(nwp), np.shape(obs), header, type(header)) # variable, day, forecast_time\n",
        "X = nwp\n",
        "y = obs\n",
        "\n",
        "\n",
        "print (np.shape(X), np.shape(y)) # forecast_time * day, variable\n",
        "\n",
        "# .. remove missing\n",
        "missing_idx = np.where( X==-999. )\n",
        "X = np.delete( X, missing_idx[0], axis=0 )\n",
        "y = np.delete( y, missing_idx[0], axis=0 )\n",
        "\n",
        "print ( \"after drop missing\" )\n",
        "print (np.shape(X), np.shape(y)) # forecast_time * day, variable"
      ],
      "metadata": {
        "id": "_XRhvwfCSReE"
      },
      "execution_count": null,
      "outputs": []
    },
    {
      "cell_type": "markdown",
      "source": [
        "### **랜덤포레스트 설정 및 변수 중요도 산출**\n",
        "\n",
        "\n",
        "*   랜덤포레스트 회귀모영 초모수 설정\n",
        "*   fitting\n",
        "*   중요도 산출\n",
        "*   중요도 sorting 및 변수이름과 매치\n",
        "*   학습된 랜덤포레스트 회귀모델 저장\n",
        "*   오름차순으로 정렬된 변수중요도 그림 생산\n",
        "\n",
        "\n",
        "\n"
      ],
      "metadata": {
        "id": "6-BGmqzWSSie"
      }
    },
    {
      "cell_type": "code",
      "source": [
        "#----------------------------------------------------------------------------\n",
        "# .. model run\n",
        "\n",
        "# .. set model & fit\n",
        "print(\"RandomForest Regressor ing..\")\n",
        "forest = RandomForestRegressor(n_jobs=-1, criterion='mse', max_depth=30,  ## max_depth=5\n",
        "                           min_samples_split=3, max_features=0.33, random_state=1)\n",
        "#forest = RandomForestRegressor(n_jobs=-1, criterion='mse', random_state=0)\n",
        "#forest = RandomForestRegressor(n_estimators= 2, n_jobs=-1, random_state=0)\n",
        "forest.fit(X, y)\n",
        "\n",
        "\n",
        "# .. get feature importance\n",
        "print( \"Features sorted by their score:\")\n",
        "importances = forest.feature_importances_\n",
        "\n",
        "# .. sort importance\n",
        "indices = np.argsort(importances)[::-1]\n",
        "sorted_importances= []\n",
        "sorted_feature_name= []\n",
        "print(\"Feature ranking:\")\n",
        "feature_name = header\n",
        "for f in range(X.shape[1]-1,-1,-1):\n",
        "    #print(\"%d. feature %d (%f)\" % (f + 1, indices[f], importances[indices[f]]) )\n",
        "    print(\"%d. feature %d %s (%f)\" % (f + 1, indices[f], feature_name[indices[f]], importances[indices[f]]) )\n",
        "    sorted_importances.append(importances[indices[f]])\n",
        "    sorted_feature_name.append(feature_name[indices[f]])\n",
        "\n",
        "# .. save RF result\n",
        "save_name = print_dir + \"rf_hline_\" + data_per\n",
        "print(save_name)\n",
        "\n",
        "plot_importance_hline(sorted_feature_name, sorted_importances, save_name)\n",
        "joblib.dump(forest, \"../daba/\" + \"rf_regressor_\" + data_per)"
      ],
      "metadata": {
        "id": "IXw8XSWvST18"
      },
      "execution_count": null,
      "outputs": []
    },
    {
      "cell_type": "markdown",
      "source": [
        "### **변수중요도 산출 결과 기반 변수선택**\n",
        "\n",
        "\n",
        "*   평균 중요도 이상값 선택\n",
        "*   해당하는 변수의 index 값 획득\n",
        "*   해당변수의 중요도와 이름 획득"
      ],
      "metadata": {
        "id": "53RgEKyYTxtc"
      }
    },
    {
      "cell_type": "code",
      "source": [
        "#----------------------------------------------------------------------------\n",
        "# .. feature select over mean\n",
        "\n",
        "# .. select variable\n",
        "sfm = SelectFromModel(estimator=forest, prefit=True, threshold='mean', max_features=None)\n",
        "sel_idx=sfm.get_support()\n",
        "print(\"sel idx: \", sel_idx)\n",
        "filter_X = X[:,sel_idx]\n",
        "filter_H = list(np.array(header)[sel_idx])\n",
        "print(\"after select variable: \", filter_X.shape)"
      ],
      "metadata": {
        "id": "FLhCQA0ITzEs"
      },
      "execution_count": null,
      "outputs": []
    },
    {
      "cell_type": "markdown",
      "source": [
        "### **평균 중요도 이상 변수들의 상관관계 plot**"
      ],
      "metadata": {
        "id": "K7Bh8au2UCJo"
      }
    },
    {
      "cell_type": "code",
      "source": [
        "#----------------------------------------------------------------------------\n",
        "# .. correlation matrix\n",
        "\n",
        "save_name = print_dir + \"cr_matrix_\" + data_per\n",
        "plot_correlation_matrix(filter_X, filter_H, save_name)"
      ],
      "metadata": {
        "id": "7WtxtGJwUDuy"
      },
      "execution_count": null,
      "outputs": []
    }
  ]
}